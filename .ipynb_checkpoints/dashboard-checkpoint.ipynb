{
 "cells": [
  {
   "cell_type": "markdown",
   "metadata": {},
   "source": [
    "# Toronto Dwellings Analysis Dashboard\n",
    "\n",
    "In this notebook, you will compile the visualizations from the previous analysis into functions to create a Panel dashboard."
   ]
  },
  {
   "cell_type": "code",
   "execution_count": 2,
   "metadata": {},
   "outputs": [],
   "source": [
    "# imports\n",
    "import panel as pn\n",
    "pn.extension('plotly')\n",
    "import plotly.express as px\n",
    "import pandas as pd\n",
    "import hvplot.pandas\n",
    "import matplotlib.pyplot as plt\n",
    "import os\n",
    "from pathlib import Path\n",
    "from dotenv import load_dotenv\n",
    "from panel.interact import interact"
   ]
  },
  {
   "cell_type": "code",
   "execution_count": 3,
   "metadata": {},
   "outputs": [],
   "source": [
    "# Initialize the Panel Extensions (for Plotly)\n",
    "import panel as pn\n",
    "pn.extension(\"plotly\")"
   ]
  },
  {
   "cell_type": "code",
   "execution_count": 4,
   "metadata": {},
   "outputs": [],
   "source": [
    "# Read the Mapbox API key\n",
    "load_dotenv()\n",
    "map_box_api = os.getenv(\"mapbox\")\n",
    "px.set_mapbox_access_token(map_box_api)"
   ]
  },
  {
   "cell_type": "markdown",
   "metadata": {},
   "source": [
    "# Import Data"
   ]
  },
  {
   "cell_type": "code",
   "execution_count": 5,
   "metadata": {},
   "outputs": [],
   "source": [
    "# Import the CSVs to Pandas DataFrames\n",
    "file_path = Path(\"Data/toronto_neighbourhoods_census_data.csv\")\n",
    "to_data = pd.read_csv(file_path, index_col=\"year\")\n",
    "\n",
    "# Load neighbourhoods coordinates data\n",
    "file_path = Path(\"Data/toronto_neighbourhoods_coordinates.csv\")\n",
    "df_neighbourhood_locations = pd.read_csv(file_path)"
   ]
  },
  {
   "cell_type": "markdown",
   "metadata": {},
   "source": [
    "- - -"
   ]
  },
  {
   "cell_type": "markdown",
   "metadata": {},
   "source": [
    "## Panel Visualizations\n",
    "\n",
    "In this section, you will copy the code for each plot type from your analysis notebook and place it into separate functions that Panel can use to create panes for the dashboard. \n",
    "\n",
    "These functions will convert the plot object to a Panel pane.\n",
    "\n",
    "Be sure to include any DataFrame transformation/manipulation code required along with the plotting code.\n",
    "\n",
    "Return a Panel pane object from each function that can be used to build the dashboard.\n",
    "\n",
    "Note: Remove any `.show()` lines from the code. We want to return the plots instead of showing them. The Panel dashboard will then display the plots."
   ]
  },
  {
   "cell_type": "markdown",
   "metadata": {},
   "source": [
    "### Global available data"
   ]
  },
  {
   "cell_type": "code",
   "execution_count": 6,
   "metadata": {},
   "outputs": [],
   "source": [
    "# Calculate the sum number of dwelling types units per year\n",
    "\n",
    "# Use iloc to include only the dwelling types columns and no additional columns\n",
    "yearly_dwelling_types = to_data.iloc[:, 1:9].groupby(\"year\").sum()\n",
    "\n",
    "# Slice data for Year by 2001, 2006, 2011, and 2016\n",
    "yearly_dwelling_types_1 = yearly_dwelling_types.loc[2001]\n",
    "yearly_dwelling_types_2 = yearly_dwelling_types.loc[2006]\n",
    "yearly_dwelling_types_3 = yearly_dwelling_types.loc[2011]\n",
    "yearly_dwelling_types_4 = yearly_dwelling_types.loc[2016]"
   ]
  },
  {
   "cell_type": "code",
   "execution_count": 7,
   "metadata": {},
   "outputs": [],
   "source": [
    "# Calculate the average monthly shelter costs for owned and rented dwellings\n",
    "\n",
    "# Use iloc to include the shelter costs for owned and rented dwellings\n",
    "average_shelter_costs = to_data.iloc[:, 10:12].groupby(\"year\").mean()\n",
    "\n",
    "# Slice data for Year by 2001, 2006, 2011, and 2016\n",
    "average_shelter_costs_1 = average_shelter_costs[\"shelter_costs_owned\"]\n",
    "average_shelter_costs_2 = average_shelter_costs[\"shelter_costs_rented\"]"
   ]
  },
  {
   "cell_type": "code",
   "execution_count": 8,
   "metadata": {},
   "outputs": [],
   "source": [
    "# Calculate the average house value per year\n",
    "avg_house_value = to_data[\"average_house_value\"].groupby(\"year\").mean()"
   ]
  },
  {
   "cell_type": "code",
   "execution_count": 9,
   "metadata": {},
   "outputs": [],
   "source": [
    "# Getting the data from the top 10 expensive neighbourhoods\n",
    "\n",
    "# Create a new DataFrame with the mean house values by neighbourhood per year\n",
    "yearly_neighbourhood_value = to_data[[\"neighbourhood\", \"average_house_value\"]]\n",
    "\n",
    "# Create a list containing the different neighbourhoods\n",
    "neighbourhood_list = to_data[\"neighbourhood\"].unique()"
   ]
  },
  {
   "cell_type": "code",
   "execution_count": null,
   "metadata": {},
   "outputs": [],
   "source": []
  },
  {
   "cell_type": "code",
   "execution_count": 10,
   "metadata": {},
   "outputs": [],
   "source": [
    "# Fetch the data of all dwelling types per year\n",
    "yearly_neighbourhood_dwelling = to_data.iloc[:, 0:9] "
   ]
  },
  {
   "cell_type": "code",
   "execution_count": null,
   "metadata": {},
   "outputs": [],
   "source": []
  },
  {
   "cell_type": "code",
   "execution_count": 11,
   "metadata": {},
   "outputs": [],
   "source": [
    "# Getting the data from the top 10 expensive neighbourhoods\n",
    "# First, get the mean of the average_house_value by neighbourhood\n",
    "neighbourhood_house_value_avg = yearly_neighbourhood_value.groupby(\"neighbourhood\").mean()\n",
    "# Then, get the top 10 most expensive neighbourhoods using nlargest() which sorts by descending order\n",
    "top_10_most_enpensive_neighbourhoods = neighbourhood_house_value_avg.nlargest(10, [\"average_house_value\"])"
   ]
  },
  {
   "cell_type": "code",
   "execution_count": 12,
   "metadata": {},
   "outputs": [],
   "source": [
    "# Calculate the mean values for each neighborhood\n",
    "# This was calculated above and saved as follows:\n",
    "neighbourhood_house_value_avg\n",
    "\n",
    "# Join the average values with the neighbourhood locations\n",
    "\n",
    "avg_values = neighbourhood_house_value_avg\n",
    "neighbourhood_with_index = df_neighbourhood_locations.set_index(\"neighbourhood\")\n",
    "neighbourhood_values = (\n",
    "    pd.concat([avg_values, neighbourhood_with_index], axis=1, sort=True)\n",
    "    .dropna()\n",
    "    .reset_index()\n",
    ")"
   ]
  },
  {
   "cell_type": "markdown",
   "metadata": {},
   "source": [
    "### Panel Visualization Functions"
   ]
  },
  {
   "cell_type": "code",
   "execution_count": 13,
   "metadata": {},
   "outputs": [],
   "source": [
    "# Define Panel visualization functions\n",
    "def neighbourhood_map():\n",
    "    \"\"\"Neighbourhood Map\"\"\"\n",
    "    # Create a scatter mapbox to analyze neighbourhood info\n",
    "    neighbourhood_values_plot = px.scatter_mapbox(\n",
    "        neighbourhood_values,\n",
    "        lat=\"lat\",\n",
    "        lon=\"lon\",\n",
    "        size=\"average_house_value\",\n",
    "        color=\"average_house_value\",\n",
    "        color_continuous_scale=px.colors.cyclical.IceFire,\n",
    "        title=\"Average House Values in Toronto\",\n",
    "        zoom=9,\n",
    "        width=1100,\n",
    "        height=500\n",
    "    )\n",
    "    return neighbourhood_values_plot"
   ]
  },
  {
   "cell_type": "code",
   "execution_count": 17,
   "metadata": {},
   "outputs": [],
   "source": [
    "def create_bar_chart(data, title, xlabel, ylabel, color):\n",
    "    \"\"\"\n",
    "    Create a barplot based in the data argument.\n",
    "    \"\"\"\n",
    "    bar_plot = data.plot.bar(xlabel=xlabel, ylabel=ylabel, title=title, color=color)\n",
    "    return bar_plot\n",
    "\n",
    "def create_line_chart(data, title, xlabel, ylabel, color):\n",
    "    \"\"\"\n",
    "    Create a line chart based in the data argument.\n",
    "    \"\"\"\n",
    "    line_plot = data.plot.line(xlabel=xlabel, ylabel=ylabel, title=title, color=color)\n",
    "    return line_plot\n",
    "\n",
    "def average_house_value():\n",
    "    \"\"\"Average house values per year.\"\"\"\n",
    "    # Plot the average house value per year as a line chart\n",
    "    line_plot = create_line_chart(avg_house_value, \"Average House Value in Toronto\", \"Year\", \"Avg House Value\", \"#4E8FCB\")\n",
    "    return line_plot\n",
    "    \n",
    "def average_value_by_neighbourhood():\n",
    "    \"\"\"Average house values by neighbourhood.\"\"\"\n",
    "    # Obtain the specific neighbourhood's average house values\n",
    "    neighbourhood_avg_values = yearly_neighbourhood_value.loc[yearly_neighbourhood_value[\"neighbourhood\"] == neighbourhood]\n",
    "    line_hvplot = neighbourhood_avg_values.hvplot.line(xlabel=\"Year\", ylabel=\"Avg. House Value\").opts(title=\"neighbourhood: \" + neighbourhood, yformatter=\"%.0f\", color=\"#4E8FCB\")\n",
    "    return line_hvplot\n",
    "    \n",
    "def number_dwelling_types():\n",
    "    \"\"\"Number of dwelling types per year\"\"\"\n",
    "    # Obtain the specific neighbourhood's dwelling types\n",
    "    yearly_neighbourhood_dwelling_total = yearly_neighbourhood_dwelling.loc[yearly_neighbourhood_dwelling[\"neighbourhood\"] == neighbourhood]\n",
    "    bar_hvplot = yearly_neighbourhood_dwelling_total.hvplot.bar(xlabel=\"Year\", ylabel=\"Dwelling Type Units\", rot=90).opts(title=\"neighbourhood: \" + neighbourhood, yformatter=\"%.0f\", height=500)\n",
    "    return bar_hvplot\n",
    "\n",
    "#def average_house_value_snapshot():\n",
    "#    \"\"\"Average house value for all Toronto's neighbourhoods per year.\"\"\"\n",
    "\n",
    "    # YOUR CODE HERE!\n",
    "\n",
    "def top_most_expensive_neighbourhoods():\n",
    "    \"\"\"Top 10 most expensive neighbourhoods.\"\"\"\n",
    "    bar_plot = top_10_most_enpensive_neighbourhoods.hvplot.bar(xlabel=\"Neighbourhood\", ylabel=\"Avg. House Value\", rot=90).opts(title=\"Top 10 Expensive Neighbourhoods in Toronto\", yformatter=\"%.0f\", height=500, color=\"#4E8FCB\")\n",
    "    return bar_plot\n",
    "\n",
    "#def sunburts_cost_analysis():\n",
    "#    \"\"\"Sunburst chart to conduct a costs analysis of most expensive neighbourhoods in Toronto per year.\"\"\"\n",
    "    \n",
    "    # YOUR CODE HERE!"
   ]
  },
  {
   "cell_type": "markdown",
   "metadata": {},
   "source": [
    "## Panel Dashboard\n",
    "\n",
    "In this section, you will combine all of the plots into a single dashboard view using Panel. Be creative with your dashboard design!"
   ]
  },
  {
   "cell_type": "code",
   "execution_count": 24,
   "metadata": {},
   "outputs": [
    {
     "data": {},
     "metadata": {},
     "output_type": "display_data"
    },
    {
     "data": {},
     "metadata": {},
     "output_type": "display_data"
    },
    {
     "data": {
      "application/vnd.holoviews_exec.v0+json": "",
      "text/html": [
       "<div id='1366'>\n",
       "\n",
       "\n",
       "\n",
       "\n",
       "\n",
       "  <div class=\"bk-root\" id=\"69f1dcf6-8812-4c50-8b02-6b3d05cf2226\" data-root-id=\"1366\"></div>\n",
       "</div>\n",
       "<script type=\"application/javascript\">(function(root) {\n",
       "  function embed_document(root) {\n",
       "    var docs_json = {\"d529492d-b4b1-4e7c-9ad7-1c98b49b8048\":{\"defs\":[{\"extends\":null,\"module\":null,\"name\":\"ReactiveHTML1\",\"overrides\":[],\"properties\":[]},{\"extends\":null,\"module\":null,\"name\":\"FlexBox1\",\"overrides\":[],\"properties\":[{\"default\":\"flex-start\",\"kind\":null,\"name\":\"align_content\"},{\"default\":\"flex-start\",\"kind\":null,\"name\":\"align_items\"},{\"default\":\"row\",\"kind\":null,\"name\":\"flex_direction\"},{\"default\":\"wrap\",\"kind\":null,\"name\":\"flex_wrap\"},{\"default\":\"flex-start\",\"kind\":null,\"name\":\"justify_content\"}]},{\"extends\":null,\"module\":null,\"name\":\"TemplateActions1\",\"overrides\":[],\"properties\":[{\"default\":0,\"kind\":null,\"name\":\"open_modal\"},{\"default\":0,\"kind\":null,\"name\":\"close_modal\"}]},{\"extends\":null,\"module\":null,\"name\":\"MaterialTemplateActions1\",\"overrides\":[],\"properties\":[{\"default\":0,\"kind\":null,\"name\":\"open_modal\"},{\"default\":0,\"kind\":null,\"name\":\"close_modal\"}]}],\"roots\":{\"references\":[{\"attributes\":{\"children\":[{\"id\":\"1371\"},{\"id\":\"1374\"}],\"margin\":[0,0,0,0],\"name\":\"Column01942\"},\"id\":\"1370\",\"type\":\"Column\"},{\"attributes\":{\"margin\":[5,5,5,5],\"name\":\"Str01943\",\"text\":\"&lt;pre&gt;AxesSubplot(0.125,0.125;0.775x0.755)&lt;/pre&gt;\"},\"id\":\"1378\",\"type\":\"panel.models.markup.HTML\"},{\"attributes\":{\"children\":[{\"id\":\"1372\"}],\"margin\":[0,0,0,0],\"name\":\"Row01939\"},\"id\":\"1371\",\"type\":\"Row\"},{\"attributes\":{\"margin\":[5,5,5,5],\"name\":\"Str01956\",\"text\":\"&lt;pre&gt;AxesSubplot(0.125,0.125;0.775x0.755)&lt;/pre&gt;\"},\"id\":\"1386\",\"type\":\"panel.models.markup.HTML\"},{\"attributes\":{\"margin\":[5,5,5,5],\"name\":\"Str01946\",\"text\":\"&lt;pre&gt;AxesSubplot(0.125,0.125;0.775x0.755)&lt;/pre&gt;\"},\"id\":\"1379\",\"type\":\"panel.models.markup.HTML\"},{\"attributes\":{\"children\":[{\"id\":\"1381\"},{\"id\":\"1382\"}],\"margin\":[0,0,0,0],\"name\":\"Row01952\"},\"id\":\"1380\",\"type\":\"Row\"},{\"attributes\":{\"margin\":[5,5,5,5],\"name\":\"Str01958\",\"text\":\"&lt;pre&gt;AxesSubplot(0.125,0.125;0.775x0.755)&lt;/pre&gt;\"},\"id\":\"1387\",\"type\":\"panel.models.markup.HTML\"},{\"attributes\":{\"data\":{\"lat\":[{\"__ndarray__\":\"U/xKrRjnRUArfwi78uRFQGLShJJuzUVAiKL+gvbVRUAuVWmLa95FQG3/DGfl4UVA2X/4VCnURUAcpxHIX+NFQFWFipr95UVAhKk9V6HdRUCIzGRRu9hFQBE36a5T4UVAOpzQVuvYRUC/Y3js5+FFQGUFO9WM1kVAdJqBoXnZRUCGn6zWkd1FQBmI6Wsr2EVAHqN+D8XZRUCgzBZ7ddVFQINmfAQj2EVAvhr77UbXRUBYVMTpJORFQJdFtF9v1EVALWO//lbbRUD+lzEm+d5FQDjN0LJN3EVAIh27l73WRUD5o4cljtdFQMEXiX1A2EVASdu290LkRUCm6w3nL+FFQJ0G0uY01UVAGNQShtzdRUBnHFUT5dNFQFCwewKT10VAC2bplt/VRUBFsLuK1t5FQGYM97pa3EVAvL8PQTTcRUC/NajkOdRFQNNidGmR0kVA4j0HlqPbRUAFvA7NI9pFQPu2WDjm2EVAPX0E/nDfRUAjKwEpGNZFQOrKyqPZ30VAqebm2bTiRUA9uUMWK9RFQDl05XmR0kVActOPGzjlRUDPdyJOyOZFQPibmhWb2EVA7URJSCThRUD3o9GyKN9FQCSyUc5+2EVA0svFayDeRUB4u7lTFdFFQNK9d2l91UVANs/w6sXXRUCyaYQC39xFQARCZ6mn00VABCaqlnjZRUAWD7WOptNFQGHg2gXa5UVAgQrDVybURUB9yAD1i+BFQJAhlZxy3UVAf+fNl83bRUBIcQoCFtpFQN8qFXXi0kVABfoCgtLLRUDEFJtF3uZFQL4VR+2X20VAR3Nk5RfRRUDWllNlDOlFQFfD0ZfWzkVAZDE9oyXkRUDqkvXECNRFQCu+BBsV2EVAvbczXZnfRUATVY2YONpFQK+mgO4q2kVA26xVFuDMRUDu1HULUeVFQEJCUhOW5EVAVMtSwn7RRUAKKeTvA9ZFQAJLSzi21UVAY6w+cHjaRUBCKGurRNlFQAytkOoi2EVAxI7vIDDZRUCOtoVCX9RFQIiEzu+k4EVAhrO2hNfbRUDo3MxsANdFQNDffNG75EVAlz1kJUHVRUBidVifetRFQOLwWQmj3EVAmjORiF/WRUAzn3sotNJFQAHy66hm10VAJ5F1Hx3pRUAVlrLrYtRFQLn39AEW20VAL+rmJIzeRUCz469ef9FFQFGgkQAc00VADsvRqczgRUAW7PEID+hFQLsueKhY0UVAEzGAS9vjRUAjamCz9dhFQPyDUPfk1UVAHZ9eY3beRUAkXK+Gl9pFQDCRHPo400VA2TLPAM3URUCSMtIgP91FQGvj2/0i0UVAalnvHj3iRUCiBKLMq9tFQNbLziaw40VA6Y96mfLZRUDRRVxjRNZFQJX/PTbR30VAO3ZIGKPiRUDqcHwGt+JFQDujlK2B10VA4alPiyTiRUD1G7t+oNZFQNkdWn3Y2EVAUldnSqXWRUCS/uJCM9pFQO50a8IL2EVAsfM+pwPiRUC7XVBbettFQA==\",\"dtype\":\"float64\",\"order\":\"little\",\"shape\":[140]}],\"lon\":[{\"__ndarray__\":\"GObrzxHRU8Chm6LI/9BTwGXg48Cp4lPArp1qJdvZU8AVu4XHYdZTwNBX+wEw3VPA04cuqK/YU8AYHsGuIthTwLud2J502FPAoEhBAeXaU8D8cXetr95TwDbIZj950FPAkB3pRvfQU8CnJfMbaOFTwLWAt92X1VPA39wEhPvcU8C8WlH3P9hTwFK8RqLC1lPASb/55BPfU8AP46BKbtdTwAYW2TEi3VPAPJPsxxzaU8Aw3odqp8lTwHBxO9FB2FPAlLK5KALSU8AbTrI4kNxTwAUZnuoSz1PACZRmVqPcU8BO4t7CG9VTwJG4hbY11VPAbzH9GqLWU8BDObCg2dFTwMIdAw0R3FPAlEH/TmTfU8Dq/0Vl/dtTwCRbRLEo01PAcy+s8m/hU8DAcNfgt89TwAYea4gi41PAaU9ugP7bU8DPusoDJuVTwOWkKH5p5FPA9ZJSEkrVU8AxjZGyZttTwFG2Di+E2lPA7kGlndzgU8DTWV6gwdRTwDtKb8l7zFPAxW0b49bVU8AMjQ7l191TwNjmUp7x3VPAyKV9tVvLU8BcH9YbtdZTwKN5W0Rv4VPAU8rvXZjjU8DYtJQktuJTwMxS/Clf21PANesQKHDRU8BCq7yyxeJTwI3rIRIs3lPAh2SOBizeU8BBGiUaqtBTwBZR0WBs2VPANshFMRDjU8AqhlBKreBTwEy/yPQZ1FPAS0KeNL/fU8DWnA8RL9tTwHgfDcja2VPAlLW4jPzZU8BLEa66bddTwEWLQ2iK21PAG070VCLiU8DabVm2Pc5TwCRMSb3E3lPAp28+GrPkU8CIYAO/mdFTwDQVHD0C4FPAZf6wKUDNU8Am8WbLgddTwLNDHdL/31PASP7cp5XlU8CeLBCYothTwG+0iM0s2VPAI3P6tKngU8Av/hHh+tlTwGwP92ic21PAAo2IGGXaU8AXVfEMe9ZTwEtCOwoE2FPAZUMvivvTU8D7Lc+95tFTwMN2/3El3FPA4JgrpHjVU8B/7Wg1x9pTwGANSKkh1VPAxgMlYM/hU8A6FC55ttZTwJQsistv1VPAHFI1D9riU8CsN4uTEtdTwAfBFRY95FPAUM6rlaTfU8D/RwH9WdxTwK8S4oBM2FPAueQTDe3LU8D7H8PXFd9TwEOEC7vg31PApRAKQuDNU8C472ocHtxTwJeQrE971VPAWGHIJELYU8CKzNinjtRTwGVDDnwS4FPA+jIoBWPTU8D8T0AL8NJTwLRV7qos01PAV5+jPBDkU8CBxachZtZTwGZ2SPeU2lPAUYTU7azZU8DXjZDkJtRTwD5bKBUk2FPAk7X6qE7LU8COYD60KuZTwLZ9l2v03FPA04MnmQHhU8CGaN+idN1TwIlij9wc01PAJfsQ6bHZU8CVCWQbXdtTwE4gkVt441PAyJ41JqHOU8AXgW+iL9RTwLVDcBrq01PAYY0OozvbU8DGSN1r1NlTwMxL9rZ22VPADfug20nfU8DQ2DRCQd1TwA==\",\"dtype\":\"float64\",\"order\":\"little\",\"shape\":[140]}],\"marker.color\":[{\"__ndarray__\":\"AAAAAE4hFEEAAAAAtGUUQQAAAABKHhpBAAAAAMLLJkEAAAAAjq0iQQAAAAAjnR5BAAAAAJbbGUEAAACA9XQgQQAAAABLQSFBAAAAgN5kLEEAAAAAv6MWQQAAAAANYRJBAAAAAAyxGkEAAAAATtcPQQAAAAA0Nx9BAAAAAFJPFkEAAADA1Uo3QQAAAAC1DxtBAAAAAHxrFUEAAAAAeigeQQAAAADJExZBAAAAgJDwLUEAAAAAGwQZQQAAAACWyRhBAAAAAO2jFUEAAACAEtUgQQAAAAA4ehlBAAAAAGqhGUEAAAAA/H8cQQAAAAC9vBlBAAAAAOlKGEEAAAAAgvsPQQAAAAAuiBpBAAAAAJ5HF0EAAAAA0+0bQQAAAACZLR1BAAAAAAVMKEEAAAAAmmoQQQAAAADVYBBBAAAAgNFcIUEAAAAAV0cYQQAAAACQ4hJBAAAAALhdCUEAAAAAwf0pQQAAAIDYPzJBAAAAALf+E0EAAAAAvp8XQQAAAAB2ixZBAAAAAJiUFkEAAAAAIkAgQQAAAICDyiFBAAAAAJosGkEAAAAAPBwYQQAAAAD6aRtBAAAAAEp9FUEAAAAAn4QTQQAAAAD7RSVBAAAAABePEUEAAAAAlZEbQQAAAADVcRpBAAAAAFuzE0EAAAAABogRQQAAAACX4hpBAAAAAKOmFEEAAACAxLspQQAAAICH2CNBAAAAAKeLFEEAAAAAwbYiQQAAAADBLCdBAAAAwIuxMEEAAACAj5woQQAAAABBfCBBAAAAAJmMF0EAAAAAglsPQQAAAAC0qRtBAAAAABsZG0EAAAAAcQ4VQQAAAABKBBhBAAAAAFZlEUEAAAAAwP0YQQAAAACTAhBBAAAAAPLnDkEAAACA9KskQQAAAABXkxxBAAAAABDkGEEAAACAqhMhQQAAAABiHBxBAAAAACSVFkEAAACArnQlQQAAAAD/HBlBAAAAAC81EkEAAAAAxsUZQQAAAADL7RpBAAAAAFYQG0EAAACA3/wiQQAAAADyvxtBAAAAAN2+GEEAAACANs0jQQAAAAD9yRZBAAAAAGVeJ0EAAAAACfYXQQAAAACdCBZBAAAAAPEYFUEAAAAAJRAfQQAAAAAIsDBBAAAAAHv3FkEAAAAAJNkgQQAAAADKTxpBAAAAAK8hFEEAAAAA2k8bQQAAAACyxRtBAAAAAIZ9LkEAAAAAOvMWQQAAAIBAzCBBAAAAABqaFUEAAAAAsDkNQQAAAACEVSRBAAAAAODwFkEAAAAABikPQQAAAICDTyBBAAAAgJneIkEAAAAAFH4VQQAAAAB8ABdBAAAAAJ5fEUEAAAAAWfMUQQAAAAAhUhVBAAAAAJ/MEkEAAAAA6HgVQQAAAAB9QhVBAAAAANagHEEAAAAAW3McQQAAAABYVhxBAAAAACc4EkEAAAAAGy8bQQAAAAD6kxZBAAAAALFFIUEAAACAI7YoQQAAAIBI0ShBAAAAAK6rEkEAAAAANUwaQQ==\",\"dtype\":\"float64\",\"order\":\"little\",\"shape\":[140]}],\"marker.size\":[{\"__ndarray__\":\"AAAAAE4hFEEAAAAAtGUUQQAAAABKHhpBAAAAAMLLJkEAAAAAjq0iQQAAAAAjnR5BAAAAAJbbGUEAAACA9XQgQQAAAABLQSFBAAAAgN5kLEEAAAAAv6MWQQAAAAANYRJBAAAAAAyxGkEAAAAATtcPQQAAAAA0Nx9BAAAAAFJPFkEAAADA1Uo3QQAAAAC1DxtBAAAAAHxrFUEAAAAAeigeQQAAAADJExZBAAAAgJDwLUEAAAAAGwQZQQAAAACWyRhBAAAAAO2jFUEAAACAEtUgQQAAAAA4ehlBAAAAAGqhGUEAAAAA/H8cQQAAAAC9vBlBAAAAAOlKGEEAAAAAgvsPQQAAAAAuiBpBAAAAAJ5HF0EAAAAA0+0bQQAAAACZLR1BAAAAAAVMKEEAAAAAmmoQQQAAAADVYBBBAAAAgNFcIUEAAAAAV0cYQQAAAACQ4hJBAAAAALhdCUEAAAAAwf0pQQAAAIDYPzJBAAAAALf+E0EAAAAAvp8XQQAAAAB2ixZBAAAAAJiUFkEAAAAAIkAgQQAAAICDyiFBAAAAAJosGkEAAAAAPBwYQQAAAAD6aRtBAAAAAEp9FUEAAAAAn4QTQQAAAAD7RSVBAAAAABePEUEAAAAAlZEbQQAAAADVcRpBAAAAAFuzE0EAAAAABogRQQAAAACX4hpBAAAAAKOmFEEAAACAxLspQQAAAICH2CNBAAAAAKeLFEEAAAAAwbYiQQAAAADBLCdBAAAAwIuxMEEAAACAj5woQQAAAABBfCBBAAAAAJmMF0EAAAAAglsPQQAAAAC0qRtBAAAAABsZG0EAAAAAcQ4VQQAAAABKBBhBAAAAAFZlEUEAAAAAwP0YQQAAAACTAhBBAAAAAPLnDkEAAACA9KskQQAAAABXkxxBAAAAABDkGEEAAACAqhMhQQAAAABiHBxBAAAAACSVFkEAAACArnQlQQAAAAD/HBlBAAAAAC81EkEAAAAAxsUZQQAAAADL7RpBAAAAAFYQG0EAAACA3/wiQQAAAADyvxtBAAAAAN2+GEEAAACANs0jQQAAAAD9yRZBAAAAAGVeJ0EAAAAACfYXQQAAAACdCBZBAAAAAPEYFUEAAAAAJRAfQQAAAAAIsDBBAAAAAHv3FkEAAAAAJNkgQQAAAADKTxpBAAAAAK8hFEEAAAAA2k8bQQAAAACyxRtBAAAAAIZ9LkEAAAAAOvMWQQAAAIBAzCBBAAAAABqaFUEAAAAAsDkNQQAAAACEVSRBAAAAAODwFkEAAAAABikPQQAAAICDTyBBAAAAgJneIkEAAAAAFH4VQQAAAAB8ABdBAAAAAJ5fEUEAAAAAWfMUQQAAAAAhUhVBAAAAAJ/MEkEAAAAA6HgVQQAAAAB9QhVBAAAAANagHEEAAAAAW3McQQAAAABYVhxBAAAAACc4EkEAAAAAGy8bQQAAAAD6kxZBAAAAALFFIUEAAACAI7YoQQAAAIBI0ShBAAAAAK6rEkEAAAAANUwaQQ==\",\"dtype\":\"float64\",\"order\":\"little\",\"shape\":[140]}]},\"selected\":{\"id\":\"1463\"},\"selection_policy\":{\"id\":\"1462\"}},\"id\":\"1373\",\"type\":\"ColumnDataSource\"},{\"attributes\":{\"factors\":[\"Bridle Path-Sunnybrook-York Mills\",\"Forest Hill South\",\"Lawrence Park South\",\"Rosedale-Moore Park\",\"St.Andrew-Windfields\",\"Casa Loma\",\"Bedford Park-Nortown\",\"Forest Hill North\",\"Kingsway South\",\"Yonge-St.Clair\"],\"tags\":[[[\"neighbourhood\",\"neighbourhood\",null]]]},\"id\":\"1392\",\"type\":\"FactorRange\"},{\"attributes\":{\"axis\":{\"id\":\"1404\"},\"coordinates\":null,\"grid_line_color\":null,\"group\":null,\"ticker\":null},\"id\":\"1406\",\"type\":\"Grid\"},{\"attributes\":{\"child\":{\"id\":\"1376\"},\"name\":\"Column01953\",\"title\":\"Yearly Market Analysis\"},\"id\":\"1383\",\"type\":\"Panel\"},{\"attributes\":{\"data\":{\"average_house_value\":{\"__ndarray__\":\"AAAAwNVKN0EAAACA2D8yQQAAAMCLsTBBAAAAAAiwMEEAAAAAhn0uQQAAAICQ8C1BAAAAgN5kLEEAAAAAwf0pQQAAAIDEuylBAAAAgEjRKEE=\",\"dtype\":\"float64\",\"order\":\"little\",\"shape\":[10]},\"neighbourhood\":[\"Bridle Path-Sunnybrook-York Mills\",\"Forest Hill South\",\"Lawrence Park South\",\"Rosedale-Moore Park\",\"St.Andrew-Windfields\",\"Casa Loma\",\"Bedford Park-Nortown\",\"Forest Hill North\",\"Kingsway South\",\"Yonge-St.Clair\"]},\"selected\":{\"id\":\"1425\"},\"selection_policy\":{\"id\":\"1448\"}},\"id\":\"1424\",\"type\":\"ColumnDataSource\"},{\"attributes\":{\"below\":[{\"id\":\"1404\"}],\"center\":[{\"id\":\"1406\"},{\"id\":\"1410\"}],\"height\":500,\"left\":[{\"id\":\"1407\"}],\"margin\":[5,5,5,5],\"min_border_bottom\":10,\"min_border_left\":10,\"min_border_right\":10,\"min_border_top\":10,\"renderers\":[{\"id\":\"1430\"}],\"sizing_mode\":\"fixed\",\"title\":{\"id\":\"1396\"},\"toolbar\":{\"id\":\"1417\"},\"width\":700,\"x_range\":{\"id\":\"1392\"},\"x_scale\":{\"id\":\"1400\"},\"y_range\":{\"id\":\"1393\"},\"y_scale\":{\"id\":\"1402\"}},\"id\":\"1395\",\"subtype\":\"Figure\",\"type\":\"Plot\"},{\"attributes\":{\"tools\":[{\"id\":\"1394\"},{\"id\":\"1411\"},{\"id\":\"1412\"},{\"id\":\"1413\"},{\"id\":\"1414\"},{\"id\":\"1415\"}]},\"id\":\"1417\",\"type\":\"Toolbar\"},{\"attributes\":{\"data\":[{\"hovertemplate\":\"average_house_value=%{marker.color}<br>lat=%{lat}<br>lon=%{lon}<extra></extra>\",\"legendgroup\":\"\",\"marker\":{\"coloraxis\":\"coloraxis\",\"sizemode\":\"area\",\"sizeref\":3816.214375},\"mode\":\"markers\",\"name\":\"\",\"showlegend\":false,\"subplot\":\"mapbox\",\"type\":\"scattermapbox\"}],\"data_sources\":[{\"id\":\"1373\"}],\"layout\":{\"coloraxis\":{\"colorbar\":{\"title\":{\"text\":\"average_house_value\"}},\"colorscale\":[[0.0,\"#000000\"],[0.0625,\"#001f4d\"],[0.125,\"#003786\"],[0.1875,\"#0e58a8\"],[0.25,\"#217eb8\"],[0.3125,\"#30a4ca\"],[0.375,\"#54c8df\"],[0.4375,\"#9be4ef\"],[0.5,\"#e1e9d1\"],[0.5625,\"#f3d573\"],[0.625,\"#e7b000\"],[0.6875,\"#da8200\"],[0.75,\"#c65400\"],[0.8125,\"#ac2301\"],[0.875,\"#820000\"],[0.9375,\"#4c0000\"],[1.0,\"#000000\"]]},\"height\":500,\"legend\":{\"itemsizing\":\"constant\",\"tracegroupgap\":0},\"mapbox\":{\"accesstoken\":\"pk.eyJ1IjoiY2xhdWRpYW1hcnQiLCJhIjoiY2t3dTY5dzY0MHd6aTJwbzEzaHc2MGFucCJ9.74_AYNf-TnvcauhQtZrwnA\",\"center\":{\"lat\":43.708840577642846,\"lon\":-79.4001855035},\"domain\":{\"x\":[0.0,1.0],\"y\":[0.0,1.0]},\"zoom\":9},\"template\":{\"data\":{\"bar\":[{\"error_x\":{\"color\":\"#2a3f5f\"},\"error_y\":{\"color\":\"#2a3f5f\"},\"marker\":{\"line\":{\"color\":\"#E5ECF6\",\"width\":0.5},\"pattern\":{\"fillmode\":\"overlay\",\"size\":10,\"solidity\":0.2}},\"type\":\"bar\"}],\"barpolar\":[{\"marker\":{\"line\":{\"color\":\"#E5ECF6\",\"width\":0.5},\"pattern\":{\"fillmode\":\"overlay\",\"size\":10,\"solidity\":0.2}},\"type\":\"barpolar\"}],\"carpet\":[{\"aaxis\":{\"endlinecolor\":\"#2a3f5f\",\"gridcolor\":\"white\",\"linecolor\":\"white\",\"minorgridcolor\":\"white\",\"startlinecolor\":\"#2a3f5f\"},\"baxis\":{\"endlinecolor\":\"#2a3f5f\",\"gridcolor\":\"white\",\"linecolor\":\"white\",\"minorgridcolor\":\"white\",\"startlinecolor\":\"#2a3f5f\"},\"type\":\"carpet\"}],\"choropleth\":[{\"colorbar\":{\"outlinewidth\":0,\"ticks\":\"\"},\"type\":\"choropleth\"}],\"contour\":[{\"colorbar\":{\"outlinewidth\":0,\"ticks\":\"\"},\"colorscale\":[[0.0,\"#0d0887\"],[0.1111111111111111,\"#46039f\"],[0.2222222222222222,\"#7201a8\"],[0.3333333333333333,\"#9c179e\"],[0.4444444444444444,\"#bd3786\"],[0.5555555555555556,\"#d8576b\"],[0.6666666666666666,\"#ed7953\"],[0.7777777777777778,\"#fb9f3a\"],[0.8888888888888888,\"#fdca26\"],[1.0,\"#f0f921\"]],\"type\":\"contour\"}],\"contourcarpet\":[{\"colorbar\":{\"outlinewidth\":0,\"ticks\":\"\"},\"type\":\"contourcarpet\"}],\"heatmap\":[{\"colorbar\":{\"outlinewidth\":0,\"ticks\":\"\"},\"colorscale\":[[0.0,\"#0d0887\"],[0.1111111111111111,\"#46039f\"],[0.2222222222222222,\"#7201a8\"],[0.3333333333333333,\"#9c179e\"],[0.4444444444444444,\"#bd3786\"],[0.5555555555555556,\"#d8576b\"],[0.6666666666666666,\"#ed7953\"],[0.7777777777777778,\"#fb9f3a\"],[0.8888888888888888,\"#fdca26\"],[1.0,\"#f0f921\"]],\"type\":\"heatmap\"}],\"heatmapgl\":[{\"colorbar\":{\"outlinewidth\":0,\"ticks\":\"\"},\"colorscale\":[[0.0,\"#0d0887\"],[0.1111111111111111,\"#46039f\"],[0.2222222222222222,\"#7201a8\"],[0.3333333333333333,\"#9c179e\"],[0.4444444444444444,\"#bd3786\"],[0.5555555555555556,\"#d8576b\"],[0.6666666666666666,\"#ed7953\"],[0.7777777777777778,\"#fb9f3a\"],[0.8888888888888888,\"#fdca26\"],[1.0,\"#f0f921\"]],\"type\":\"heatmapgl\"}],\"histogram\":[{\"marker\":{\"pattern\":{\"fillmode\":\"overlay\",\"size\":10,\"solidity\":0.2}},\"type\":\"histogram\"}],\"histogram2d\":[{\"colorbar\":{\"outlinewidth\":0,\"ticks\":\"\"},\"colorscale\":[[0.0,\"#0d0887\"],[0.1111111111111111,\"#46039f\"],[0.2222222222222222,\"#7201a8\"],[0.3333333333333333,\"#9c179e\"],[0.4444444444444444,\"#bd3786\"],[0.5555555555555556,\"#d8576b\"],[0.6666666666666666,\"#ed7953\"],[0.7777777777777778,\"#fb9f3a\"],[0.8888888888888888,\"#fdca26\"],[1.0,\"#f0f921\"]],\"type\":\"histogram2d\"}],\"histogram2dcontour\":[{\"colorbar\":{\"outlinewidth\":0,\"ticks\":\"\"},\"colorscale\":[[0.0,\"#0d0887\"],[0.1111111111111111,\"#46039f\"],[0.2222222222222222,\"#7201a8\"],[0.3333333333333333,\"#9c179e\"],[0.4444444444444444,\"#bd3786\"],[0.5555555555555556,\"#d8576b\"],[0.6666666666666666,\"#ed7953\"],[0.7777777777777778,\"#fb9f3a\"],[0.8888888888888888,\"#fdca26\"],[1.0,\"#f0f921\"]],\"type\":\"histogram2dcontour\"}],\"mesh3d\":[{\"colorbar\":{\"outlinewidth\":0,\"ticks\":\"\"},\"type\":\"mesh3d\"}],\"parcoords\":[{\"line\":{\"colorbar\":{\"outlinewidth\":0,\"ticks\":\"\"}},\"type\":\"parcoords\"}],\"pie\":[{\"automargin\":true,\"type\":\"pie\"}],\"scatter\":[{\"marker\":{\"colorbar\":{\"outlinewidth\":0,\"ticks\":\"\"}},\"type\":\"scatter\"}],\"scatter3d\":[{\"line\":{\"colorbar\":{\"outlinewidth\":0,\"ticks\":\"\"}},\"marker\":{\"colorbar\":{\"outlinewidth\":0,\"ticks\":\"\"}},\"type\":\"scatter3d\"}],\"scattercarpet\":[{\"marker\":{\"colorbar\":{\"outlinewidth\":0,\"ticks\":\"\"}},\"type\":\"scattercarpet\"}],\"scattergeo\":[{\"marker\":{\"colorbar\":{\"outlinewidth\":0,\"ticks\":\"\"}},\"type\":\"scattergeo\"}],\"scattergl\":[{\"marker\":{\"colorbar\":{\"outlinewidth\":0,\"ticks\":\"\"}},\"type\":\"scattergl\"}],\"scattermapbox\":[{\"marker\":{\"colorbar\":{\"outlinewidth\":0,\"ticks\":\"\"}},\"type\":\"scattermapbox\"}],\"scatterpolar\":[{\"marker\":{\"colorbar\":{\"outlinewidth\":0,\"ticks\":\"\"}},\"type\":\"scatterpolar\"}],\"scatterpolargl\":[{\"marker\":{\"colorbar\":{\"outlinewidth\":0,\"ticks\":\"\"}},\"type\":\"scatterpolargl\"}],\"scatterternary\":[{\"marker\":{\"colorbar\":{\"outlinewidth\":0,\"ticks\":\"\"}},\"type\":\"scatterternary\"}],\"surface\":[{\"colorbar\":{\"outlinewidth\":0,\"ticks\":\"\"},\"colorscale\":[[0.0,\"#0d0887\"],[0.1111111111111111,\"#46039f\"],[0.2222222222222222,\"#7201a8\"],[0.3333333333333333,\"#9c179e\"],[0.4444444444444444,\"#bd3786\"],[0.5555555555555556,\"#d8576b\"],[0.6666666666666666,\"#ed7953\"],[0.7777777777777778,\"#fb9f3a\"],[0.8888888888888888,\"#fdca26\"],[1.0,\"#f0f921\"]],\"type\":\"surface\"}],\"table\":[{\"cells\":{\"fill\":{\"color\":\"#EBF0F8\"},\"line\":{\"color\":\"white\"}},\"header\":{\"fill\":{\"color\":\"#C8D4E3\"},\"line\":{\"color\":\"white\"}},\"type\":\"table\"}]},\"layout\":{\"annotationdefaults\":{\"arrowcolor\":\"#2a3f5f\",\"arrowhead\":0,\"arrowwidth\":1},\"autotypenumbers\":\"strict\",\"coloraxis\":{\"colorbar\":{\"outlinewidth\":0,\"ticks\":\"\"}},\"colorscale\":{\"diverging\":[[0,\"#8e0152\"],[0.1,\"#c51b7d\"],[0.2,\"#de77ae\"],[0.3,\"#f1b6da\"],[0.4,\"#fde0ef\"],[0.5,\"#f7f7f7\"],[0.6,\"#e6f5d0\"],[0.7,\"#b8e186\"],[0.8,\"#7fbc41\"],[0.9,\"#4d9221\"],[1,\"#276419\"]],\"sequential\":[[0.0,\"#0d0887\"],[0.1111111111111111,\"#46039f\"],[0.2222222222222222,\"#7201a8\"],[0.3333333333333333,\"#9c179e\"],[0.4444444444444444,\"#bd3786\"],[0.5555555555555556,\"#d8576b\"],[0.6666666666666666,\"#ed7953\"],[0.7777777777777778,\"#fb9f3a\"],[0.8888888888888888,\"#fdca26\"],[1.0,\"#f0f921\"]],\"sequentialminus\":[[0.0,\"#0d0887\"],[0.1111111111111111,\"#46039f\"],[0.2222222222222222,\"#7201a8\"],[0.3333333333333333,\"#9c179e\"],[0.4444444444444444,\"#bd3786\"],[0.5555555555555556,\"#d8576b\"],[0.6666666666666666,\"#ed7953\"],[0.7777777777777778,\"#fb9f3a\"],[0.8888888888888888,\"#fdca26\"],[1.0,\"#f0f921\"]]},\"colorway\":[\"#636efa\",\"#EF553B\",\"#00cc96\",\"#ab63fa\",\"#FFA15A\",\"#19d3f3\",\"#FF6692\",\"#B6E880\",\"#FF97FF\",\"#FECB52\"],\"font\":{\"color\":\"#2a3f5f\"},\"geo\":{\"bgcolor\":\"white\",\"lakecolor\":\"white\",\"landcolor\":\"#E5ECF6\",\"showlakes\":true,\"showland\":true,\"subunitcolor\":\"white\"},\"hoverlabel\":{\"align\":\"left\"},\"hovermode\":\"closest\",\"mapbox\":{\"style\":\"light\"},\"paper_bgcolor\":\"white\",\"plot_bgcolor\":\"#E5ECF6\",\"polar\":{\"angularaxis\":{\"gridcolor\":\"white\",\"linecolor\":\"white\",\"ticks\":\"\"},\"bgcolor\":\"#E5ECF6\",\"radialaxis\":{\"gridcolor\":\"white\",\"linecolor\":\"white\",\"ticks\":\"\"}},\"scene\":{\"xaxis\":{\"backgroundcolor\":\"#E5ECF6\",\"gridcolor\":\"white\",\"gridwidth\":2,\"linecolor\":\"white\",\"showbackground\":true,\"ticks\":\"\",\"zerolinecolor\":\"white\"},\"yaxis\":{\"backgroundcolor\":\"#E5ECF6\",\"gridcolor\":\"white\",\"gridwidth\":2,\"linecolor\":\"white\",\"showbackground\":true,\"ticks\":\"\",\"zerolinecolor\":\"white\"},\"zaxis\":{\"backgroundcolor\":\"#E5ECF6\",\"gridcolor\":\"white\",\"gridwidth\":2,\"linecolor\":\"white\",\"showbackground\":true,\"ticks\":\"\",\"zerolinecolor\":\"white\"}},\"shapedefaults\":{\"line\":{\"color\":\"#2a3f5f\"}},\"ternary\":{\"aaxis\":{\"gridcolor\":\"white\",\"linecolor\":\"white\",\"ticks\":\"\"},\"baxis\":{\"gridcolor\":\"white\",\"linecolor\":\"white\",\"ticks\":\"\"},\"bgcolor\":\"#E5ECF6\",\"caxis\":{\"gridcolor\":\"white\",\"linecolor\":\"white\",\"ticks\":\"\"}},\"title\":{\"x\":0.05},\"xaxis\":{\"automargin\":true,\"gridcolor\":\"white\",\"linecolor\":\"white\",\"ticks\":\"\",\"title\":{\"standoff\":15},\"zerolinecolor\":\"white\",\"zerolinewidth\":2},\"yaxis\":{\"automargin\":true,\"gridcolor\":\"white\",\"linecolor\":\"white\",\"ticks\":\"\",\"title\":{\"standoff\":15},\"zerolinecolor\":\"white\",\"zerolinewidth\":2}}},\"title\":{\"text\":\"Average House Values in Toronto\"},\"width\":1100},\"margin\":[5,5,5,5],\"name\":\"Plotly01940\",\"viewport_update_throttle\":200},\"id\":\"1374\",\"type\":\"panel.models.plotly.PlotlyPlot\"},{\"attributes\":{\"child\":{\"id\":\"1370\"},\"name\":\"Column01942\",\"title\":\"Welcome\"},\"id\":\"1375\",\"type\":\"Panel\"},{\"attributes\":{\"coordinates\":null,\"data_source\":{\"id\":\"1424\"},\"glyph\":{\"id\":\"1427\"},\"group\":null,\"hover_glyph\":null,\"muted_glyph\":{\"id\":\"1429\"},\"nonselection_glyph\":{\"id\":\"1428\"},\"selection_glyph\":{\"id\":\"1432\"},\"view\":{\"id\":\"1431\"}},\"id\":\"1430\",\"type\":\"GlyphRenderer\"},{\"attributes\":{\"bottom_units\":\"screen\",\"coordinates\":null,\"fill_alpha\":0.5,\"fill_color\":\"lightgrey\",\"group\":null,\"left_units\":\"screen\",\"level\":\"overlay\",\"line_alpha\":1.0,\"line_color\":\"black\",\"line_dash\":[4,4],\"line_width\":2,\"right_units\":\"screen\",\"syncable\":false,\"top_units\":\"screen\"},\"id\":\"1416\",\"type\":\"BoxAnnotation\"},{\"attributes\":{\"args\":{\"model\":{\"id\":\"1374\"}},\"code\":\"try { model.visibility = (cb_obj.active == 0); } catch { }\",\"tags\":[\"plotly_tab_fix1374\"]},\"id\":\"1518\",\"type\":\"CustomJS\"},{\"attributes\":{},\"id\":\"1411\",\"type\":\"SaveTool\"},{\"attributes\":{\"children\":[{\"id\":\"1368\"}],\"margin\":[0,0,0,0],\"name\":\"Row01936\"},\"id\":\"1367\",\"type\":\"Row\"},{\"attributes\":{\"fill_alpha\":{\"value\":0.2},\"fill_color\":{\"value\":\"#4E8FCB\"},\"hatch_alpha\":{\"value\":0.2},\"hatch_color\":{\"value\":\"#4E8FCB\"},\"line_alpha\":{\"value\":0.2},\"top\":{\"field\":\"average_house_value\"},\"width\":{\"value\":0.8},\"x\":{\"field\":\"neighbourhood\"}},\"id\":\"1429\",\"type\":\"VBar\"},{\"attributes\":{},\"id\":\"1412\",\"type\":\"PanTool\"},{\"attributes\":{},\"id\":\"1425\",\"type\":\"Selection\"},{\"attributes\":{\"margin\":[0,0,0,0],\"name\":\"Column01617\"},\"id\":\"1389\",\"type\":\"Column\"},{\"attributes\":{\"coordinates\":null,\"group\":null,\"text\":\"Top 10 Expensive Neighbourhoods in Toronto\",\"text_color\":\"black\",\"text_font_size\":\"12pt\"},\"id\":\"1396\",\"type\":\"Title\"},{\"attributes\":{\"fill_color\":{\"value\":\"#4E8FCB\"},\"hatch_color\":{\"value\":\"#4E8FCB\"},\"top\":{\"field\":\"average_house_value\"},\"width\":{\"value\":0.8},\"x\":{\"field\":\"neighbourhood\"}},\"id\":\"1427\",\"type\":\"VBar\"},{\"attributes\":{},\"id\":\"1415\",\"type\":\"ResetTool\"},{\"attributes\":{\"css_classes\":[\"markdown\"],\"margin\":[5,5,5,5],\"name\":\"Markdown01937\",\"text\":\"&lt;p&gt;This dashboard presents a visual analysis of historical house values, dwelling types per neighbourhood and dwelling costs in Toronto, Ontario according to census data from 2001 to 2016. You can navigate through the tabs above to explore more details about the evolution of the real estate market in Toronto across these years.&lt;/p&gt;\"},\"id\":\"1372\",\"type\":\"panel.models.markup.HTML\"},{\"attributes\":{\"source\":{\"id\":\"1424\"}},\"id\":\"1431\",\"type\":\"CDSView\"},{\"attributes\":{},\"id\":\"1413\",\"type\":\"WheelZoomTool\"},{\"attributes\":{\"reload\":false},\"id\":\"1575\",\"type\":\"panel.models.location.Location\"},{\"attributes\":{\"margin\":[5,5,5,5],\"name\":\"Str01948\",\"text\":\"&lt;pre&gt;AxesSubplot(0.125,0.125;0.775x0.755)&lt;/pre&gt;\"},\"id\":\"1381\",\"type\":\"panel.models.markup.HTML\"},{\"attributes\":{\"format\":\"%.0f\"},\"id\":\"1433\",\"type\":\"PrintfTickFormatter\"},{\"attributes\":{\"margin\":[5,5,5,5],\"name\":\"Str01950\",\"text\":\"&lt;pre&gt;AxesSubplot(0.125,0.125;0.775x0.755)&lt;/pre&gt;\"},\"id\":\"1382\",\"type\":\"panel.models.markup.HTML\"},{\"attributes\":{\"axis_label\":\"Neighbourhood\",\"coordinates\":null,\"formatter\":{\"id\":\"1435\"},\"group\":null,\"major_label_orientation\":1.5707963267948966,\"major_label_policy\":{\"id\":\"1436\"},\"ticker\":{\"id\":\"1405\"}},\"id\":\"1404\",\"type\":\"CategoricalAxis\"},{\"attributes\":{\"fill_alpha\":{\"value\":0.1},\"fill_color\":{\"value\":\"#4E8FCB\"},\"hatch_alpha\":{\"value\":0.1},\"hatch_color\":{\"value\":\"#4E8FCB\"},\"line_alpha\":{\"value\":0.1},\"top\":{\"field\":\"average_house_value\"},\"width\":{\"value\":0.8},\"x\":{\"field\":\"neighbourhood\"}},\"id\":\"1428\",\"type\":\"VBar\"},{\"attributes\":{\"overlay\":{\"id\":\"1416\"}},\"id\":\"1414\",\"type\":\"BoxZoomTool\"},{\"attributes\":{\"child\":{\"id\":\"1384\"},\"name\":\"Column01960\",\"title\":\"Shelter Costs Vs. House Value\"},\"id\":\"1388\",\"type\":\"Panel\"},{\"attributes\":{},\"id\":\"1400\",\"type\":\"CategoricalScale\"},{\"attributes\":{},\"id\":\"1435\",\"type\":\"CategoricalTickFormatter\"},{\"attributes\":{},\"id\":\"1436\",\"type\":\"AllLabels\"},{\"attributes\":{\"child\":{\"id\":\"1389\"},\"name\":\"Column01617\",\"title\":\"Neighbourhood Analysis\"},\"id\":\"1390\",\"type\":\"Panel\"},{\"attributes\":{\"bottom\":{\"value\":0},\"fill_alpha\":{\"value\":1.0},\"fill_color\":{\"value\":\"#4E8FCB\"},\"hatch_alpha\":{\"value\":1.0},\"hatch_color\":{\"value\":\"#4E8FCB\"},\"hatch_scale\":{\"value\":12.0},\"hatch_weight\":{\"value\":1.0},\"line_alpha\":{\"value\":1.0},\"line_cap\":{\"value\":\"butt\"},\"line_color\":{\"value\":\"black\"},\"line_dash\":{\"value\":[]},\"line_dash_offset\":{\"value\":0},\"line_join\":{\"value\":\"bevel\"},\"line_width\":{\"value\":1},\"top\":{\"field\":\"average_house_value\"},\"width\":{\"value\":0.8},\"x\":{\"field\":\"neighbourhood\"}},\"id\":\"1432\",\"type\":\"VBar\"},{\"attributes\":{\"children\":[{\"id\":\"1395\"}],\"margin\":[0,0,0,0],\"name\":\"Column02083\"},\"id\":\"1391\",\"type\":\"Column\"},{\"attributes\":{\"margin\":[5,5,5,5],\"name\":\"Str01954\",\"text\":\"&lt;pre&gt;AxesSubplot(0.125,0.125;0.775x0.755)&lt;/pre&gt;\"},\"id\":\"1385\",\"type\":\"panel.models.markup.HTML\"},{\"attributes\":{},\"id\":\"1462\",\"type\":\"UnionRenderers\"},{\"attributes\":{},\"id\":\"1448\",\"type\":\"UnionRenderers\"},{\"attributes\":{\"client_comm_id\":\"9b61f360b6274f4ca56457e9fd723a7d\",\"comm_id\":\"3b6d950e962f4875ae4d6006dab0becc\",\"plot_id\":\"1366\"},\"id\":\"1541\",\"type\":\"panel.models.comm_manager.CommManager\"},{\"attributes\":{},\"id\":\"1463\",\"type\":\"Selection\"},{\"attributes\":{\"children\":[{\"id\":\"1385\"},{\"id\":\"1386\"},{\"id\":\"1387\"}],\"margin\":[0,0,0,0],\"name\":\"Column01960\"},\"id\":\"1384\",\"type\":\"Column\"},{\"attributes\":{},\"id\":\"1402\",\"type\":\"LinearScale\"},{\"attributes\":{\"callback\":null,\"renderers\":[{\"id\":\"1430\"}],\"tags\":[\"hv_created\"],\"tooltips\":[[\"neighbourhood\",\"@{neighbourhood}\"],[\"average_house_value\",\"@{average_house_value}\"]]},\"id\":\"1394\",\"type\":\"HoverTool\"},{\"attributes\":{},\"id\":\"1405\",\"type\":\"CategoricalTicker\"},{\"attributes\":{},\"id\":\"1439\",\"type\":\"AllLabels\"},{\"attributes\":{\"children\":[{\"id\":\"1377\"},{\"id\":\"1380\"}],\"margin\":[0,0,0,0],\"name\":\"Column01953\"},\"id\":\"1376\",\"type\":\"Column\"},{\"attributes\":{\"css_classes\":[\"markdown\"],\"margin\":[5,5,5,5],\"name\":\"Markdown01934\",\"text\":\"&lt;h2&gt;Real Estate Analysis of Toronto from 2001 to 2016&lt;/h2&gt;\"},\"id\":\"1368\",\"type\":\"panel.models.markup.HTML\"},{\"attributes\":{\"child\":{\"id\":\"1391\"},\"name\":\"Column02083\",\"title\":\"Top Expensive Neighbourhoods\"},\"id\":\"1460\",\"type\":\"Panel\"},{\"attributes\":{\"end\":1597812.3,\"reset_end\":1597812.3,\"reset_start\":0.0,\"tags\":[[[\"average_house_value\",\"average_house_value\",null]]]},\"id\":\"1393\",\"type\":\"Range1d\"},{\"attributes\":{},\"id\":\"1408\",\"type\":\"BasicTicker\"},{\"attributes\":{\"js_property_callbacks\":{\"change:active\":[{\"id\":\"1518\"}]},\"margin\":[0,0,0,0],\"tabs\":[{\"id\":\"1375\"},{\"id\":\"1383\"},{\"id\":\"1388\"},{\"id\":\"1390\"},{\"id\":\"1460\"}]},\"id\":\"1369\",\"type\":\"Tabs\"},{\"attributes\":{\"axis_label\":\"Avg. House Value\",\"coordinates\":null,\"formatter\":{\"id\":\"1433\"},\"group\":null,\"major_label_policy\":{\"id\":\"1439\"},\"ticker\":{\"id\":\"1408\"}},\"id\":\"1407\",\"type\":\"LinearAxis\"},{\"attributes\":{\"children\":[{\"id\":\"1378\"},{\"id\":\"1379\"}],\"margin\":[0,0,0,0],\"name\":\"Row01945\"},\"id\":\"1377\",\"type\":\"Row\"},{\"attributes\":{\"axis\":{\"id\":\"1407\"},\"coordinates\":null,\"dimension\":1,\"grid_line_color\":null,\"group\":null,\"ticker\":null},\"id\":\"1410\",\"type\":\"Grid\"},{\"attributes\":{\"children\":[{\"id\":\"1367\"},{\"id\":\"1369\"}],\"margin\":[0,0,0,0],\"name\":\"Column02085\"},\"id\":\"1366\",\"type\":\"Column\"}],\"root_ids\":[\"1366\",\"1541\",\"1575\"]},\"title\":\"Bokeh Application\",\"version\":\"2.4.2\"}};\n",
       "    var render_items = [{\"docid\":\"d529492d-b4b1-4e7c-9ad7-1c98b49b8048\",\"root_ids\":[\"1366\"],\"roots\":{\"1366\":\"69f1dcf6-8812-4c50-8b02-6b3d05cf2226\"}}];\n",
       "    root.Bokeh.embed.embed_items_notebook(docs_json, render_items);\n",
       "  }\n",
       "  if (root.Bokeh !== undefined && root.Bokeh.Panel !== undefined && ( root['Plotly'] !== undefined)) {\n",
       "    embed_document(root);\n",
       "  } else {\n",
       "    var attempts = 0;\n",
       "    var timer = setInterval(function(root) {\n",
       "      if (root.Bokeh !== undefined && root.Bokeh.Panel !== undefined && (root['Plotly'] !== undefined)) {\n",
       "        clearInterval(timer);\n",
       "        embed_document(root);\n",
       "      } else if (document.readyState == \"complete\") {\n",
       "        attempts++;\n",
       "        if (attempts > 200) {\n",
       "          clearInterval(timer);\n",
       "          console.log(\"Bokeh: ERROR: Unable to run BokehJS code because BokehJS library is missing\");\n",
       "        }\n",
       "      }\n",
       "    }, 25, root)\n",
       "  }\n",
       "})(window);</script>"
      ],
      "text/plain": [
       "Column\n",
       "    [0] Row\n",
       "        [0] Markdown(str)\n",
       "    [1] Tabs\n",
       "        [0] Column\n",
       "            [0] Row\n",
       "                [0] Markdown(str)\n",
       "            [1] Plotly(Figure)\n",
       "        [1] Column\n",
       "            [0] Row\n",
       "                [0] Str(AxesSubplot)\n",
       "                [1] Str(AxesSubplot)\n",
       "            [1] Row\n",
       "                [0] Str(AxesSubplot)\n",
       "                [1] Str(AxesSubplot)\n",
       "        [2] Column\n",
       "            [0] Str(AxesSubplot)\n",
       "            [1] Str(AxesSubplot)\n",
       "            [2] Str(AxesSubplot)\n",
       "        [3] Column()\n",
       "        [4] Column\n",
       "            [0] HoloViews(Bars)"
      ]
     },
     "execution_count": 24,
     "metadata": {
      "application/vnd.holoviews_exec.v0+json": {
       "id": "1366"
      }
     },
     "output_type": "execute_result"
    },
    {
     "data": {
      "image/png": "[encoded data removed]",
      "text/plain": [
       "<Figure size 432x288 with 1 Axes>"
      ]
     },
     "metadata": {
      "needs_background": "light"
     },
     "output_type": "display_data"
    }
   ],
   "source": [
    "# Create a Title for the Dashboard\n",
    "title = pn.Row(\"## Real Estate Analysis of Toronto from 2001 to 2016\")\n",
    "\n",
    "# Define a welcome text\n",
    "welcome_text = pn.Row(\"This dashboard presents a visual analysis of historical house values, dwelling types per neighbourhood \" +\n",
    "                \"and dwelling costs in Toronto, Ontario according to census data from 2001 to 2016. \" +\n",
    "                \"You can navigate through the tabs above to explore more details about the evolution of the real estate market \" +\n",
    "                \"in Toronto across these years.\")\n",
    "\n",
    "# Create a tab layout for the dashboard\n",
    "welcome_column = pn.Column(welcome_text, neighbourhood_map())\n",
    "\n",
    "# Bar chart for 2001\n",
    "bar_chart_2001 = create_bar_chart(yearly_dwelling_types_1, \"Dwelling Types in Toronto in 2001\", \"2001\", \"Dwelling Type Units\", \"red\")\n",
    "# Bar chart for 2006\n",
    "bar_chart_2006 = create_bar_chart(yearly_dwelling_types_2, \"Dwelling Types in Toronto in 2006\", \"2006\", \"Dwelling Type Units\", \"blue\")\n",
    "# Bar chart for 2011\n",
    "bar_chart_2011 = create_bar_chart(yearly_dwelling_types_3, \"Dwelling Types in Toronto in 2011\", \"2011\", \"Dwelling Type Units\", \"#F1BE4A\")\n",
    "# Bar chart for 2016\n",
    "bar_chart_2016 = create_bar_chart(yearly_dwelling_types_4, \"Dwelling Types in Toronto in 2016\", \"2016\", \"Dwelling Type Units\", \"magenta\")\n",
    "# Position two bar charts per row\n",
    "row_of_bar_1 = pn.Row(bar_chart_2001, bar_chart_2006)\n",
    "row_of_bar_2 = pn.Row(bar_chart_2011, bar_chart_2016)\n",
    "# Put rows in a column\n",
    "yearly_analysis_column = pn.Column(row_of_bar_1, row_of_bar_2)\n",
    "\n",
    "# Line chart for owned dwellings\n",
    "line_chart_1 = create_line_chart(average_shelter_costs_1, \"Average Monthly Shelter Cost for Owned Dwellings in Toronto\", \"Year\", \"Avg Monthly Shelter Costs\", \"blue\")\n",
    "# Line chart for rented dwellings\n",
    "line_chart_2 = create_line_chart(average_shelter_costs_2, \"Average Monthly Shelter Cost for Rented Dwellings in Toronto\", \"Year\", \"Avg Monthly Shelter Costs\", \"#F1BE4A\")\n",
    "# Line chart for average house value  \n",
    "line_chart_3 = average_house_value()\n",
    "# Put line charts in a column\n",
    "shelter_costs_column = pn.Column(line_chart_1, line_chart_2, line_chart_3)\n",
    "\n",
    "# Interactive line and bar charts for neighbourhood analysis\n",
    "#interactive_1 = interact(average_value_by_neighbourhood, neighbourhood=neighbourhood_list)\n",
    "#interactive_2 = interact(number_dwelling_types, neighbourhood=neighbourhood_list)\n",
    "# Put interactive charts in a column\n",
    "#neighbourhood_analysis_column = pn.Column(interactive_1, interactive_2)\n",
    "\n",
    "\n",
    "top_expensive_neighbourhoods_column = pn.Column(top_most_expensive_neighbourhoods())\n",
    "\n",
    "\n",
    "# Create the main dashboard\n",
    "to_real_estate_dashboard_tabs = pn.Tabs(\n",
    "    (\n",
    "        \"Welcome\",\n",
    "        welcome_column\n",
    "    ),\n",
    "    (\n",
    "        \"Yearly Market Analysis\",\n",
    "        yearly_analysis_column\n",
    "    ),\n",
    "    (\n",
    "        \"Shelter Costs Vs. House Value\",\n",
    "        shelter_costs_column\n",
    "    ),\n",
    "    (\n",
    "        \"Neighbourhood Analysis\",\n",
    "        neighbourhood_analysis_column\n",
    "    ),\n",
    "    (\n",
    "        \"Top Expensive Neighbourhoods\",\n",
    "        top_expensive_neighbourhoods_column\n",
    "    )\n",
    ")\n",
    "\n",
    "to_real_estate_dashboard = pn.Column(title, to_real_estate_dashboard_tabs)\n",
    "\n",
    "to_real_estate_dashboard"
   ]
  },
  {
   "cell_type": "markdown",
   "metadata": {},
   "source": [
    "## Serve the Panel Dashboard"
   ]
  },
  {
   "cell_type": "code",
   "execution_count": null,
   "metadata": {},
   "outputs": [],
   "source": [
    "dashboard.servable()"
   ]
  },
  {
   "cell_type": "markdown",
   "metadata": {},
   "source": [
    "# Debugging\n",
    "\n",
    "Note: Some of the Plotly express plots may not render in the notebook through the panel functions.\n",
    "\n",
    "However, you can test each plot by uncommenting the following code"
   ]
  },
  {
   "cell_type": "code",
   "execution_count": null,
   "metadata": {},
   "outputs": [],
   "source": [
    "# neighbourhood_map().show()"
   ]
  },
  {
   "cell_type": "code",
   "execution_count": null,
   "metadata": {},
   "outputs": [],
   "source": [
    "# create_bar_chart(data, title, xlabel, ylabel, color)\n",
    "\n",
    "# # Bar chart for 2001\n",
    "# create_bar_chart(yearly_dwelling_types.loc[2001], \"Dwelling Types in Toronto in 2001\", \"2001\", \"Dwelling Type Units\", \"red\")\n",
    "\n",
    "# # Bar chart for 2006\n",
    "# create_bar_chart(df_dwelling_units.loc[2006], \"Dwelling Types in Toronto in 2006\", \"2006\", \"Dwelling Type Units\", \"blue\")\n",
    "\n",
    "# # Bar chart for 2011\n",
    "# create_bar_chart(df_dwelling_units.loc[2011], \"Dwelling Types in Toronto in 2011\", \"2011\", \"Dwelling Type Units\", \"orange\")\n",
    "\n",
    "# # Bar chart for 2016\n",
    "# create_bar_chart(df_dwelling_units.loc[2016], \"Dwelling Types in Toronto in 2016\", \"2016\", \"Dwelling Type Units\", \"magenta\")"
   ]
  },
  {
   "cell_type": "code",
   "execution_count": null,
   "metadata": {},
   "outputs": [],
   "source": [
    "# create_line_chart(data, title, xlabel, ylabel, color)\n",
    "\n",
    "# # Line chart for owned dwellings\n",
    "# create_line_chart(df_avg_costs[\"shelter_costs_owned\"], \"Average Monthly Shelter Cost for Owned Dwellings in Toronto\", \"Year\", \"Avg Monthly Shelter Costs\", \"blue\")\n",
    "\n",
    "# # Line chart for rented dwellings\n",
    "# create_line_chart(df_avg_costs[\"shelter_costs_rented\"], \"Average Monthly Shelter Cost for Rented Dwellings in Toronto\", \"Year\", \"Avg Monthly Shelter Costs\", \"orange\")"
   ]
  },
  {
   "cell_type": "code",
   "execution_count": 16,
   "metadata": {},
   "outputs": [
    {
     "data": {
      "image/png": "[encoded data removed]",
      "text/plain": [
       "<Figure size 432x288 with 1 Axes>"
      ]
     },
     "metadata": {
      "needs_background": "light"
     },
     "output_type": "display_data"
    }
   ],
   "source": [
    " average_house_value()"
   ]
  },
  {
   "cell_type": "code",
   "execution_count": null,
   "metadata": {},
   "outputs": [],
   "source": [
    "# average_value_by_neighbourhood()"
   ]
  },
  {
   "cell_type": "code",
   "execution_count": null,
   "metadata": {},
   "outputs": [],
   "source": [
    "# number_dwelling_types()"
   ]
  },
  {
   "cell_type": "code",
   "execution_count": null,
   "metadata": {},
   "outputs": [],
   "source": [
    "# average_house_value_snapshot()"
   ]
  },
  {
   "cell_type": "code",
   "execution_count": null,
   "metadata": {},
   "outputs": [],
   "source": [
    "# top_most_expensive_neighbourhoods()"
   ]
  },
  {
   "cell_type": "code",
   "execution_count": null,
   "metadata": {},
   "outputs": [],
   "source": [
    "# sunburts_cost_analysis()"
   ]
  }
 ],
 "metadata": {
  "file_extension": ".py",
  "kernelspec": {
   "display_name": "Python 3 (ipykernel)",
   "language": "python",
   "name": "python3"
  },
  "language_info": {
   "codemirror_mode": {
    "name": "ipython",
    "version": 3
   },
   "file_extension": ".py",
   "mimetype": "text/x-python",
   "name": "python",
   "nbconvert_exporter": "python",
   "pygments_lexer": "ipython3",
   "version": "3.7.11"
  },
  "mimetype": "text/x-python",
  "name": "python",
  "npconvert_exporter": "python",
  "pygments_lexer": "ipython3",
  "version": 3
 },
 "nbformat": 4,
 "nbformat_minor": 4
}
